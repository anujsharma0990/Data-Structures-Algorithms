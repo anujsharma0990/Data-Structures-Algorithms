{
 "cells": [
  {
   "cell_type": "markdown",
   "id": "f37443d0",
   "metadata": {},
   "source": [
    "# Big O"
   ]
  },
  {
   "cell_type": "markdown",
   "id": "15dbf912",
   "metadata": {},
   "source": [
    "O(n):Linear time complexity. The algorithm's execution time grows linearly with the input size. For example, iterating through a list."
   ]
  },
  {
   "cell_type": "code",
   "execution_count": 7,
   "id": "0a3f3206",
   "metadata": {},
   "outputs": [
    {
     "name": "stdout",
     "output_type": "stream",
     "text": [
      "0\n",
      "1\n",
      "2\n",
      "3\n",
      "4\n",
      "5\n",
      "6\n",
      "7\n",
      "8\n",
      "9\n"
     ]
    }
   ],
   "source": [
    "def print_items(n):\n",
    "    for i in range(n):\n",
    "        print(i)\n",
    "        \n",
    "print_items(10)"
   ]
  },
  {
   "cell_type": "markdown",
   "id": "87cdbd29",
   "metadata": {},
   "source": [
    "Drop Constants:When analyzing the time complexity using Big O notation, it is common practice to drop the constant factors. The reason for this is that the constant factors do not significantly affect the growth rate of the algorithm as the input size becomes large."
   ]
  },
  {
   "cell_type": "code",
   "execution_count": 4,
   "id": "76e30424",
   "metadata": {},
   "outputs": [
    {
     "name": "stdout",
     "output_type": "stream",
     "text": [
      "0\n",
      "1\n",
      "2\n",
      "3\n",
      "4\n",
      "5\n",
      "6\n",
      "7\n",
      "8\n",
      "9\n",
      "0\n",
      "1\n",
      "2\n",
      "3\n",
      "4\n",
      "5\n",
      "6\n",
      "7\n",
      "8\n",
      "9\n"
     ]
    }
   ],
   "source": [
    "def print_items(n):\n",
    "    for i in range(n):\n",
    "        print(i)\n",
    "    for j in range(n):\n",
    "        print(j)\n",
    "        \n",
    "print_items(10)        "
   ]
  },
  {
   "cell_type": "markdown",
   "id": "a2770476",
   "metadata": {},
   "source": [
    "O(n^2): Quadratic time complexity. The algorithm's execution time grows quadratically with the input size. For example, nested loops iterating over a list."
   ]
  },
  {
   "cell_type": "code",
   "execution_count": 5,
   "id": "1b239f33",
   "metadata": {},
   "outputs": [
    {
     "name": "stdout",
     "output_type": "stream",
     "text": [
      "0 0\n",
      "0 1\n",
      "0 2\n",
      "0 3\n",
      "0 4\n",
      "0 5\n",
      "0 6\n",
      "0 7\n",
      "0 8\n",
      "0 9\n",
      "1 0\n",
      "1 1\n",
      "1 2\n",
      "1 3\n",
      "1 4\n",
      "1 5\n",
      "1 6\n",
      "1 7\n",
      "1 8\n",
      "1 9\n",
      "2 0\n",
      "2 1\n",
      "2 2\n",
      "2 3\n",
      "2 4\n",
      "2 5\n",
      "2 6\n",
      "2 7\n",
      "2 8\n",
      "2 9\n",
      "3 0\n",
      "3 1\n",
      "3 2\n",
      "3 3\n",
      "3 4\n",
      "3 5\n",
      "3 6\n",
      "3 7\n",
      "3 8\n",
      "3 9\n",
      "4 0\n",
      "4 1\n",
      "4 2\n",
      "4 3\n",
      "4 4\n",
      "4 5\n",
      "4 6\n",
      "4 7\n",
      "4 8\n",
      "4 9\n",
      "5 0\n",
      "5 1\n",
      "5 2\n",
      "5 3\n",
      "5 4\n",
      "5 5\n",
      "5 6\n",
      "5 7\n",
      "5 8\n",
      "5 9\n",
      "6 0\n",
      "6 1\n",
      "6 2\n",
      "6 3\n",
      "6 4\n",
      "6 5\n",
      "6 6\n",
      "6 7\n",
      "6 8\n",
      "6 9\n",
      "7 0\n",
      "7 1\n",
      "7 2\n",
      "7 3\n",
      "7 4\n",
      "7 5\n",
      "7 6\n",
      "7 7\n",
      "7 8\n",
      "7 9\n",
      "8 0\n",
      "8 1\n",
      "8 2\n",
      "8 3\n",
      "8 4\n",
      "8 5\n",
      "8 6\n",
      "8 7\n",
      "8 8\n",
      "8 9\n",
      "9 0\n",
      "9 1\n",
      "9 2\n",
      "9 3\n",
      "9 4\n",
      "9 5\n",
      "9 6\n",
      "9 7\n",
      "9 8\n",
      "9 9\n"
     ]
    }
   ],
   "source": [
    "def print_items(n):\n",
    "    for i in range(n):\n",
    "        for j in range(n):\n",
    "            print(i,j)\n",
    "            \n",
    "print_items(10)"
   ]
  },
  {
   "cell_type": "markdown",
   "id": "212d538a",
   "metadata": {},
   "source": [
    "Drop Non Dominants:\n",
    "When analyzing the time complexity using Big O notation, it is also common practice to drop non-dominant terms. Non-dominant terms represent the parts of the algorithm that have a lower impact on the growth rate compared to the dominant term.\n",
    "\n"
   ]
  },
  {
   "cell_type": "code",
   "execution_count": 6,
   "id": "b47de9c0",
   "metadata": {},
   "outputs": [
    {
     "name": "stdout",
     "output_type": "stream",
     "text": [
      "0 0\n",
      "0 1\n",
      "0 2\n",
      "0 3\n",
      "0 4\n",
      "0 5\n",
      "0 6\n",
      "0 7\n",
      "0 8\n",
      "0 9\n",
      "1 0\n",
      "1 1\n",
      "1 2\n",
      "1 3\n",
      "1 4\n",
      "1 5\n",
      "1 6\n",
      "1 7\n",
      "1 8\n",
      "1 9\n",
      "2 0\n",
      "2 1\n",
      "2 2\n",
      "2 3\n",
      "2 4\n",
      "2 5\n",
      "2 6\n",
      "2 7\n",
      "2 8\n",
      "2 9\n",
      "3 0\n",
      "3 1\n",
      "3 2\n",
      "3 3\n",
      "3 4\n",
      "3 5\n",
      "3 6\n",
      "3 7\n",
      "3 8\n",
      "3 9\n",
      "4 0\n",
      "4 1\n",
      "4 2\n",
      "4 3\n",
      "4 4\n",
      "4 5\n",
      "4 6\n",
      "4 7\n",
      "4 8\n",
      "4 9\n",
      "5 0\n",
      "5 1\n",
      "5 2\n",
      "5 3\n",
      "5 4\n",
      "5 5\n",
      "5 6\n",
      "5 7\n",
      "5 8\n",
      "5 9\n",
      "6 0\n",
      "6 1\n",
      "6 2\n",
      "6 3\n",
      "6 4\n",
      "6 5\n",
      "6 6\n",
      "6 7\n",
      "6 8\n",
      "6 9\n",
      "7 0\n",
      "7 1\n",
      "7 2\n",
      "7 3\n",
      "7 4\n",
      "7 5\n",
      "7 6\n",
      "7 7\n",
      "7 8\n",
      "7 9\n",
      "8 0\n",
      "8 1\n",
      "8 2\n",
      "8 3\n",
      "8 4\n",
      "8 5\n",
      "8 6\n",
      "8 7\n",
      "8 8\n",
      "8 9\n",
      "9 0\n",
      "9 1\n",
      "9 2\n",
      "9 3\n",
      "9 4\n",
      "9 5\n",
      "9 6\n",
      "9 7\n",
      "9 8\n",
      "9 9\n",
      "0\n",
      "1\n",
      "2\n",
      "3\n",
      "4\n",
      "5\n",
      "6\n",
      "7\n",
      "8\n",
      "9\n"
     ]
    }
   ],
   "source": [
    "def print_items(n):\n",
    "    for i in range(n):\n",
    "        for j in range(n):\n",
    "            print(i,j)\n",
    "    for k in range(n):\n",
    "        print(k)\n",
    "        \n",
    "print_items(10)\n",
    "          "
   ]
  },
  {
   "cell_type": "markdown",
   "id": "48aa37f9",
   "metadata": {},
   "source": [
    "O(1): Constant time complexity. The algorithm or operation takes a constant amount of time regardless of the input size. For example, accessing an element in a list by index"
   ]
  },
  {
   "cell_type": "code",
   "execution_count": 9,
   "id": "d31bc000",
   "metadata": {},
   "outputs": [
    {
     "data": {
      "text/plain": [
       "20"
      ]
     },
     "execution_count": 9,
     "metadata": {},
     "output_type": "execute_result"
    }
   ],
   "source": [
    "def add_items(n):\n",
    "    return n+n\n",
    "\n",
    "add_items(10)"
   ]
  },
  {
   "cell_type": "code",
   "execution_count": 15,
   "id": "a5850bb7",
   "metadata": {},
   "outputs": [
    {
     "name": "stdout",
     "output_type": "stream",
     "text": [
      "0\n",
      "1\n",
      "2\n",
      "3\n",
      "4\n",
      "5\n",
      "6\n",
      "7\n",
      "8\n",
      "9\n",
      "0\n",
      "1\n",
      "2\n",
      "3\n",
      "4\n",
      "5\n",
      "6\n",
      "7\n",
      "8\n",
      "9\n"
     ]
    }
   ],
   "source": [
    "def print_items(n):\n",
    "    for i in range(n):\n",
    "        print(i)\n",
    "    for j in range(n):\n",
    "        print(j)\n",
    "        \n",
    "print_items(10)"
   ]
  },
  {
   "cell_type": "markdown",
   "id": "aa5c62e3",
   "metadata": {},
   "source": [
    "# Classes"
   ]
  },
  {
   "cell_type": "markdown",
   "id": "bd87a41e",
   "metadata": {},
   "source": [
    "Class can be thought of as a user-defined data type that encapsulates both data and functions that operate on that data. It provides a way to define and organize related data and behavior into a single entity."
   ]
  },
  {
   "cell_type": "code",
   "execution_count": 18,
   "id": "9c1de54c",
   "metadata": {},
   "outputs": [
    {
     "name": "stdout",
     "output_type": "stream",
     "text": [
      "Cookie one is green\n",
      "Cookie two is blue\n"
     ]
    }
   ],
   "source": [
    "class Cookie:\n",
    "    def __init__(self,color):\n",
    "        self.color = color\n",
    "        \n",
    "    def get_color(self):\n",
    "        return self.color\n",
    "    \n",
    "    def set_color(self,color):\n",
    "        slef.color = color\n",
    "        \n",
    "cookie_one = Cookie(\"green\")\n",
    "cookie_two = Cookie(\"blue\")\n",
    "\n",
    "print('Cookie one is', cookie_one.get_color())\n",
    "print(\"Cookie two is\", cookie_two.get_color())"
   ]
  },
  {
   "cell_type": "markdown",
   "id": "fbba6d35",
   "metadata": {},
   "source": [
    "# Pointers"
   ]
  },
  {
   "cell_type": "markdown",
   "id": "a889d778",
   "metadata": {},
   "source": [
    "Pointers are variables that store memory addresses. They are commonly used to manipulate and access data structures efficiently."
   ]
  },
  {
   "cell_type": "code",
   "execution_count": 23,
   "id": "a5f46f8c",
   "metadata": {},
   "outputs": [
    {
     "name": "stdout",
     "output_type": "stream",
     "text": [
      "Before num2 value is updated:\n",
      "num1 = 11\n",
      "num2 = 11\n",
      "\n",
      "num1 points to: 140723139634280\n",
      "num2 points to: 140723139634280\n"
     ]
    }
   ],
   "source": [
    "num1 = 11\n",
    "\n",
    "num2 = num1\n",
    "\n",
    "print(\"Before num2 value is updated:\")\n",
    "print(\"num1 =\",num1)\n",
    "print(\"num2 =\",num2)\n",
    "\n",
    "print(\"\\nnum1 points to:\", id(num1))\n",
    "print(\"num2 points to:\", id(num2))"
   ]
  },
  {
   "cell_type": "code",
   "execution_count": 35,
   "id": "fad73842",
   "metadata": {},
   "outputs": [
    {
     "name": "stdout",
     "output_type": "stream",
     "text": [
      "Before value is updated: \n",
      "dict1= {'value': 11}\n",
      "dict2= {'value': 11}\n",
      "\n",
      "dict1 points to: 1749393199168\n",
      "dict2 points to: 1749393199168\n",
      "\n",
      "After value is updated: \n",
      "dict1= {'value': 22}\n",
      "dict2= {'value': 22}\n",
      "\n",
      "dict1 points to: 1749393199168\n",
      "dict2 points to: 1749393199168\n"
     ]
    }
   ],
   "source": [
    "dict1 = {\n",
    "         \"value\": 11\n",
    "        }\n",
    "\n",
    "dict2 = dict1\n",
    "\n",
    "print(\"Before value is updated: \")\n",
    "print(\"dict1=\",dict1)\n",
    "print(\"dict2=\",dict2)\n",
    "\n",
    "print(\"\\ndict1 points to:\", id(dict1))\n",
    "print(\"dict2 points to:\", id(dict2))\n",
    "\n",
    "\n",
    "dict2['value'] = 22\n",
    "\n",
    "print(\"\\nAfter value is updated: \")\n",
    "print(\"dict1=\",dict1)\n",
    "print(\"dict2=\",dict2)\n",
    "\n",
    "print(\"\\ndict1 points to:\", id(dict1))\n",
    "print(\"dict2 points to:\", id(dict2))\n",
    "\n",
    "dict[\"value\"] = 33\n"
   ]
  },
  {
   "cell_type": "code",
   "execution_count": null,
   "id": "83ed7005",
   "metadata": {},
   "outputs": [],
   "source": []
  }
 ],
 "metadata": {
  "kernelspec": {
   "display_name": "Python 3 (ipykernel)",
   "language": "python",
   "name": "python3"
  },
  "language_info": {
   "codemirror_mode": {
    "name": "ipython",
    "version": 3
   },
   "file_extension": ".py",
   "mimetype": "text/x-python",
   "name": "python",
   "nbconvert_exporter": "python",
   "pygments_lexer": "ipython3",
   "version": "3.11.3"
  }
 },
 "nbformat": 4,
 "nbformat_minor": 5
}
